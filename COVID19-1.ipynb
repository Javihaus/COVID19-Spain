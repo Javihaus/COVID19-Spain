{
 "cells": [
  {
   "cell_type": "code",
   "execution_count": null,
   "metadata": {},
   "outputs": [],
   "source": [
    "import pymc3 as pm\n",
    "import numpy as np\n",
    "import pandas as pd\n",
    "import datetime as dt\n",
    "import theano.tensor as tt\n",
    "import scipy.stats as stats\n",
    "import matplotlib.pyplot as plt\n",
    "import matplotlib.dates as mdates\n",
    "import seaborn as sns; \n",
    "%matplotlib inline"
   ]
  },
  {
   "cell_type": "code",
   "execution_count": null,
   "metadata": {},
   "outputs": [],
   "source": [
    "df = pd.read_csv('https://raw.githubusercontent.com/datadista/datasets/master/COVID%2019/nacional_covid19.csv', sep=',').fillna(0)\n",
    "df['dias'] = pd.to_datetime(df['fecha'])\n",
    "df['dias'] = (df['dias'] - np.datetime64('2020-02-25')) / np.timedelta64(1, 'D')\n",
    "df"
   ]
  },
  {
   "cell_type": "code",
   "execution_count": null,
   "metadata": {},
   "outputs": [],
   "source": [
    "# We count te number of days since the beginning of register\n",
    "t = len(df)\n",
    "t"
   ]
  },
  {
   "cell_type": "code",
   "execution_count": null,
   "metadata": {},
   "outputs": [],
   "source": [
    "# We define the variables we are going to work with\n",
    "d = df['fecha']\n",
    "x = df['dias']\n",
    "y = df['casos']\n",
    "a = df['altas']\n",
    "f = df['fallecimientos']\n",
    "g = df['ingresos_uci']\n",
    "h = df['hospitalizados']"
   ]
  },
  {
   "cell_type": "code",
   "execution_count": null,
   "metadata": {},
   "outputs": [],
   "source": [
    "# Let's take a look at the whole picture\n",
    "with plt.style.context('Solarize_Light2'):\n",
    "   \n",
    "    fig, (ax1, ax2, ax3) = plt.subplots(3,sharex=True, figsize=(15, 10))\n",
    "    fig.suptitle('Evolucion de los casos COVID19 en ES', fontsize=20)\n",
    "    plt.rcParams['lines.linewidth'] = 5\n",
    "    \n",
    "    ax1.plot(x, y, label='casos', color='r')  \n",
    "    ax1.set_ylabel('Numero de casos', fontsize=14)\n",
    "    \n",
    "    ax2.plot(x, a, label='altas', color= 'b') \n",
    "    ax2.set_ylabel('Altas', fontsize=16)\n",
    "    \n",
    "    ax3.plot(x, f, label='hospitalizados', color='g') \n",
    "    ax3.set_xlabel('Dias desde el inicio', fontsize=18)\n",
    "    ax3.set_ylabel('Fallecimientos', fontsize=16)\n",
    "    \n",
    "    plt.xlim(0,40)\n",
    "    \n",
    "plt.show()"
   ]
  },
  {
   "cell_type": "code",
   "execution_count": null,
   "metadata": {},
   "outputs": [],
   "source": [
    "sns.set(context= \"notebook\", style=\"ticks\")\n",
    "dfn = df.drop(columns=[\"fecha\",\"dias\"])\n",
    "from scipy import stats\n",
    "g = sns.PairGrid(dfn, palette=\"tab20c\")\n",
    "g.map_upper(sns.regplot)\n",
    "g.map_lower(sns.kdeplot)\n",
    "g.map_diag(sns.kdeplot, lw=1)"
   ]
  },
  {
   "cell_type": "markdown",
   "metadata": {
    "collapsed": true
   },
   "source": [
    "# Evolution of COVID19 spread"
   ]
  },
  {
   "cell_type": "markdown",
   "metadata": {
    "collapsed": true
   },
   "source": [
    "# Option 1: Kenerlized Regression"
   ]
  },
  {
   "cell_type": "markdown",
   "metadata": {},
   "source": [
    "We are going to write a function to compute a Gaussian kernel. The Kernel function or Covariance function, allows us to apply the Bayesian framework with linear model to any function."
   ]
  },
  {
   "cell_type": "code",
   "execution_count": null,
   "metadata": {},
   "outputs": [],
   "source": [
    "def gauss_kernel(x, n_knots):\n",
    "    \"\"\"\n",
    "    Simple Gaussian radial kernel\n",
    "    \"\"\"\n",
    "    knots = np.linspace(x.min(), x.max(), n_knots)    \n",
    "    w = 2 \n",
    "    return np.array([np.exp(-(x-k)**2/w) for k in knots])"
   ]
  },
  {
   "cell_type": "code",
   "execution_count": null,
   "metadata": {},
   "outputs": [],
   "source": [
    "n_knots = t"
   ]
  },
  {
   "cell_type": "markdown",
   "metadata": {},
   "source": [
    "We write our model as a linear regression and findout 'gamma' coefficients:"
   ]
  },
  {
   "attachments": {
    "image.png": {
     "image/png": "[encoded data removed]"
    }
   },
   "cell_type": "markdown",
   "metadata": {},
   "source": [
    "![image.png](attachment:image.png)"
   ]
  },
  {
   "cell_type": "code",
   "execution_count": null,
   "metadata": {},
   "outputs": [],
   "source": [
    "with pm.Model() as kernel_model:\n",
    "    gamma = pm.Laplace('gamma', mu=0, b=1, shape=n_knots)\n",
    "    sd = pm.Uniform('sd', 0, 100)\n",
    "    mu = pm.math.dot(gamma, gauss_kernel(x, n_knots))\n",
    "    yl = pm.Normal('yl', mu=mu, sd=sd, observed=y)\n",
    "    kernel_trace = pm.sample(10000, step=pm.Metropolis())"
   ]
  },
  {
   "cell_type": "code",
   "execution_count": null,
   "metadata": {},
   "outputs": [],
   "source": [
    "# We run the model several times in parallel \n",
    "chain = kernel_trace[5000:]\n",
    "pm.traceplot(chain);"
   ]
  },
  {
   "cell_type": "code",
   "execution_count": null,
   "metadata": {},
   "outputs": [],
   "source": [
    "# Gelman-Rubin test (Rhat). Rhat ideally should expect a value R = 1 or, at least, R < 1.0 and < 1.1\n",
    "# mc_error: Estimation of the error introduced by the sampling method.\n",
    "pm.summary(chain)"
   ]
  },
  {
   "cell_type": "code",
   "execution_count": null,
   "metadata": {},
   "outputs": [],
   "source": [
    "#Kruschke's plot\n",
    "pm.plot_posterior(chain, kde_plot=True)"
   ]
  },
  {
   "cell_type": "code",
   "execution_count": null,
   "metadata": {},
   "outputs": [],
   "source": [
    "ppc = pm.sample_posterior_predictive(chain, model=kernel_model, samples=1000)\n",
    "\n",
    "fig = plt.figure(figsize=(18, 7))\n",
    "plt.plot(x, ppc['yl'].T, 'ro', alpha=0.1)\n",
    "plt.plot(x, y, 'bo')\n",
    "\n",
    "plt.xlabel('dia', fontsize=16, rotation=0)\n",
    "plt.ylabel('casos', fontsize=16, rotation=90 )"
   ]
  },
  {
   "cell_type": "code",
   "execution_count": null,
   "metadata": {},
   "outputs": [],
   "source": [
    "fig = plt.figure(figsize=(18, 7))\n",
    "new_x = np.linspace(x.min(), x.max(), 1000)\n",
    "k = gauss_kernel(new_x, n_knots)\n",
    "gamma_pred = chain['gamma']\n",
    "for i in range (1000):\n",
    "    idx = np.random.randint(0, len(gamma_pred))\n",
    "    y_pred = np.dot(gamma_pred[idx], k)\n",
    "    plt.plot(new_x, y_pred, 'r-', alpha=.5)\n",
    "plt.plot(x, y, 'bo')\n",
    "plt.xlabel('dia', fontsize=16)\n",
    "plt.ylabel('casos', fontsize=16, rotation=90)"
   ]
  },
  {
   "cell_type": "markdown",
   "metadata": {
    "collapsed": true
   },
   "source": [
    "# Option 2: Gaussian Processes"
   ]
  },
  {
   "cell_type": "code",
   "execution_count": null,
   "metadata": {},
   "outputs": [],
   "source": [
    "squared_distance = lambda x, y: np.array([[(x[i] - y[j])**2 for i in range(len(x))] for j in range(len(y))])"
   ]
  },
  {
   "cell_type": "code",
   "execution_count": null,
   "metadata": {},
   "outputs": [],
   "source": [
    "fig = plt.figure(figsize=(18, 7))\n",
    "np.random.seed(1)\n",
    "test_points = np.linspace(1, 100, 100)\n",
    "cov = np.exp(-squared_distance(test_points, test_points))\n",
    "plt.plot(test_points, stats.multivariate_normal.rvs(cov=cov, size=6).T)\n",
    "plt.xlabel('dias', fontsize=16)\n",
    "plt.ylabel('casos', fontsize=16, rotation=90)"
   ]
  },
  {
   "cell_type": "code",
   "execution_count": null,
   "metadata": {},
   "outputs": [],
   "source": [
    "fig = plt.figure(figsize=(18, 7))\n",
    "np.random.seed(1)\n",
    "eta = 1\n",
    "rho = 0.5\n",
    "sigma = 0.03\n",
    "D = squared_distance(test_points, test_points)\n",
    "\n",
    "cov = eta * np.exp(-rho * D)\n",
    "diag = eta * sigma\n",
    "\n",
    "np.fill_diagonal(cov, diag)\n",
    "\n",
    "for i in range(6):\n",
    "    plt.plot(test_points, stats.multivariate_normal.rvs(cov=cov, size=6).T)\n",
    "plt.xlabel('dias', fontsize=16)\n",
    "plt.ylabel('casos', fontsize=16, rotation=90)"
   ]
  },
  {
   "cell_type": "code",
   "execution_count": null,
   "metadata": {},
   "outputs": [],
   "source": [
    "fig = plt.figure(figsize=(18, 7))\n",
    "np.random.seed(1)\n",
    "\n",
    "K_oo = eta * np.exp(-rho * D) \n",
    "\n",
    "D_x = squared_distance(x, x)\n",
    "K = eta * np.exp(-rho * D_x)\n",
    "diag_x = eta + sigma\n",
    "np.fill_diagonal(K, diag_x)\n",
    "\n",
    "D_off_diag = squared_distance(x, test_points)\n",
    "K_o = eta * np.exp(-rho * D_off_diag)\n",
    "\n",
    "# Posterior mean\n",
    "mu_post = np.dot(np.dot(K_o, np.linalg.inv(K)), y)\n",
    "\n",
    "# Posterior covariance\n",
    "SIGMA_post = K_oo - np.dot(np.dot(K_o, np.linalg.inv(K)), K_o.T)\n",
    "\n",
    "\n",
    "for i in range(1000):\n",
    "    fx = stats.multivariate_normal.rvs(mean=mu_post, cov=SIGMA_post)\n",
    "    plt.plot(test_points, fx, 'r-', alpha=0.5)\n",
    "\n",
    "plt.plot(x, y, 'o')\n",
    " \n",
    "plt.xlabel('dias', fontsize=16)\n",
    "plt.ylabel('casos', fontsize=16, rotation=90)\n"
   ]
  },
  {
   "cell_type": "code",
   "execution_count": null,
   "metadata": {},
   "outputs": [],
   "source": [
    "fig = plt.figure(figsize=(18, 7))\n",
    "np.random.seed(1)\n",
    "\n",
    "K_oo = eta * np.exp(-rho * D) \n",
    "\n",
    "D_x = squared_distance(x, x)\n",
    "K = eta * np.exp(-rho * D_x)\n",
    "diag_x = eta + sigma\n",
    "np.fill_diagonal(K, diag_x)\n",
    "\n",
    "D_off_diag = squared_distance(x, test_points)\n",
    "K_o = eta * np.exp(-rho * D_off_diag)\n",
    "\n",
    "# Posterior mean\n",
    "mu_post = np.dot(np.dot(K_o, np.linalg.inv(K)), y)\n",
    "# Posterior covariance\n",
    "SIGMA_post = K_oo - np.dot(np.dot(K_o, np.linalg.inv(K)), K_o.T)\n",
    "\n",
    "\n",
    "for i in range(100):\n",
    "    fx = stats.multivariate_normal.rvs(mean=mu_post, cov=SIGMA_post)\n",
    "    plt.plot(test_points, fx, 'r-', alpha=0.1)\n",
    "\n",
    "plt.plot(x, y, 'o')\n",
    "plt.xlabel('dia', fontsize=16)\n",
    "plt.ylabel('casos', fontsize=16, rotation=90)\n"
   ]
  },
  {
   "cell_type": "code",
   "execution_count": null,
   "metadata": {},
   "outputs": [],
   "source": [
    "fig = plt.figure(figsize=(18, 7))\n",
    "np.random.seed(1)\n",
    "eta = 1\n",
    "rho = 0.5\n",
    "sigma = 0.03\n",
    "\n",
    "# This is the true unknown function we are trying to approximate\n",
    "f = lambda x: np.sin(x).flatten()\n",
    "\n",
    "# Define the kernel\n",
    "def kernel(a, b):\n",
    "    \"\"\" GP squared exponential kernel \"\"\"\n",
    "    D = np.sum(a**2,1).reshape(-1,1) + np.sum(b**2,1) - 2*np.dot(a, b.T)\n",
    "    return eta * np.exp(- rho * D)\n",
    "\n",
    "N = t      # number of training points.\n",
    "n = 2000        # number of test points.\n",
    "\n",
    "# Sample some input points and noisy versions of the function evaluated at\n",
    "# these points. \n",
    "X = np.random.uniform(1,100, size=(N,1))\n",
    "\n",
    "\n",
    "K = kernel(X, X)\n",
    "L = np.linalg.cholesky(K + sigma * np.eye(N))\n",
    "\n",
    "# points we're going to make predictions at.\n",
    "Xtest = np.linspace(1, 100, n).reshape(-1,1)\n",
    "\n",
    "# compute the mean at our test points.\n",
    "Lk = np.linalg.solve(L, kernel(X, Xtest))\n",
    "mu = np.dot(Lk.T, np.linalg.solve(L, y))\n",
    "\n",
    "# compute the variance at our test points.\n",
    "K_ = kernel(Xtest, Xtest)\n",
    "sd_pred = (np.diag(K_) - np.sum(Lk**2, axis=0))**0.5\n",
    "\n",
    "\n",
    "plt.fill_between(Xtest.flat, mu - 2 * sd_pred, mu + 2 * sd_pred, color=\"r\", alpha=0.2)\n",
    "plt.plot(Xtest, mu, 'r', lw=2)\n",
    "plt.plot(x, y, 'o')\n",
    "plt.xlabel('dias', fontsize=16)\n",
    "plt.ylabel('casos', fontsize=16, rotation=90)"
   ]
  },
  {
   "cell_type": "code",
   "execution_count": null,
   "metadata": {},
   "outputs": [],
   "source": [
    "with pm.Model() as GP:\n",
    "    mu = np.zeros(N)\n",
    "    eta = pm.HalfCauchy('eta', beta=0.5)\n",
    "    rho = pm.HalfCauchy('rho', beta=0.5)\n",
    "    sigma = pm.HalfCauchy('sigma', beta=0.5)\n",
    "    \n",
    "    D = squared_distance(x, x)\n",
    "    \n",
    "    K = tt.fill_diagonal(eta * pm.math.exp(-rho * D), eta + sigma)\n",
    "    \n",
    "    obs = pm.MvNormal('obs', mu, cov=K, observed=y)\n",
    "\n",
    "    test_points = np.linspace(1, 100, 150)\n",
    "    D_pred = squared_distance(test_points, test_points)\n",
    "    D_off_diag = squared_distance(x, test_points)\n",
    "    \n",
    "    K_oo = eta * pm.math.exp(-rho * D_pred)\n",
    "    K_o = eta * pm.math.exp(-rho * D_off_diag)\n",
    "    \n",
    "    mu_post = pm.Deterministic('mu_post', pm.math.dot(pm.math.dot(K_o, tt.nlinalg.matrix_inverse(K)), y))\n",
    "    SIGMA_post = pm.Deterministic('SIGMA_post', K_oo - pm.math.dot(pm.math.dot(K_o, tt.nlinalg.matrix_inverse(K)), K_o.T))\n",
    "    \n",
    "    trace = pm.sample(1000, step=pm.Metropolis())"
   ]
  },
  {
   "cell_type": "code",
   "execution_count": null,
   "metadata": {},
   "outputs": [],
   "source": [
    "fig = plt.figure(figsize=(14, 14))\n",
    "varnames = ['eta', 'rho', 'sigma']\n",
    "chain = trace[500:]\n",
    "pm.traceplot(chain, varnames)"
   ]
  },
  {
   "cell_type": "code",
   "execution_count": null,
   "metadata": {},
   "outputs": [],
   "source": [
    "# Gelman-Rubin test (Rhat). Rhat ideally should expect a value R = 1 or, at least, R < 1.0 and < 1.1\n",
    "# mc_error: Estimation of the error introduced by the sampling method.\n",
    "pm.summary(chain, varnames).round(2)"
   ]
  },
  {
   "cell_type": "code",
   "execution_count": null,
   "metadata": {
    "scrolled": true
   },
   "outputs": [],
   "source": [
    "from datetime import date\n",
    "today = date.today()\n",
    "\n",
    "fig = plt.figure(figsize=(18, 20))\n",
    "y_pred = [np.random.multivariate_normal(m, S) for m,S in zip(chain['mu_post'][::5], chain['SIGMA_post'][::5])]\n",
    "    \n",
    "for yp in y_pred: \n",
    "    plt.suptitle(\"EVOLUCION DE LOS CASOS DE COVID19 EN ESP\", fontweight=800, fontsize=24 )\n",
    "    plt.title(today, fontweight=800, fontsize=24 )\n",
    "   \n",
    "    # posterior predictive distribution\n",
    "    plt.plot(test_points, yp, 'grey', alpha=0.2, ms=5, label=\"Predicted data\")\n",
    "    plt.plot(test_points, m, 'r', alpha=0.1 , ms=50)\n",
    "\n",
    "# plot original data \n",
    "plt.plot(x, y,'bo', ms=3, alpha=1.0, label=\"observed data\")\n",
    "\n",
    "#pico de casos más probable (en días desde el inicio)\n",
    "my= np.max(m, axis=0)\n",
    "\n",
    "plt.xlim(0, 80)\n",
    "plt.ylim(-50, 100000)\n",
    "plt.axvline(x= t-1, ymin=0, ymax=100000)\n",
    "plt.xlabel('Dias desde el inicio', fontsize=18)\n",
    "plt.ylabel('Nuevos casos acumulados', fontsize=18, rotation=90)\n",
    "plt.savefig('/Users/javiermarin/desktop/COVID.png')\n",
    "plt.show()"
   ]
  },
  {
   "cell_type": "code",
   "execution_count": null,
   "metadata": {},
   "outputs": [],
   "source": []
  }
 ],
 "metadata": {
  "anaconda-cloud": {},
  "kernelspec": {
   "display_name": "Python 2",
   "language": "python",
   "name": "python2"
  },
  "language_info": {
   "codemirror_mode": {
    "name": "ipython",
    "version": 2
   },
   "file_extension": ".py",
   "mimetype": "text/x-python",
   "name": "python",
   "nbconvert_exporter": "python",
   "pygments_lexer": "ipython2",
   "version": "2.7.16"
  }
 },
 "nbformat": 4,
 "nbformat_minor": 1
}
